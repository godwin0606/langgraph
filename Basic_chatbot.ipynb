{
 "cells": [
  {
   "cell_type": "markdown",
   "id": "43728b43",
   "metadata": {},
   "source": [
    "Basic chatbot with Langgraph (Graph API)"
   ]
  },
  {
   "cell_type": "code",
   "execution_count": 2,
   "id": "6090ebb9",
   "metadata": {},
   "outputs": [],
   "source": [
    "from typing import Annotated\n",
    "\n",
    "from typing_extensions import TypedDict\n",
    "\n",
    "from langgraph.graph import StateGraph,START,END\n",
    "from langgraph.graph.message import add_messages"
   ]
  },
  {
   "cell_type": "code",
   "execution_count": 3,
   "id": "27f6bd5e",
   "metadata": {},
   "outputs": [],
   "source": [
    "class State(TypedDict):\n",
    "\n",
    "    messages:Annotated[list,add_messages]\n",
    "\n",
    "graph_builder = StateGraph(State)"
   ]
  },
  {
   "cell_type": "code",
   "execution_count": 4,
   "id": "01d0720e",
   "metadata": {},
   "outputs": [
    {
     "data": {
      "text/plain": [
       "<langgraph.graph.state.StateGraph at 0x13f94f06b10>"
      ]
     },
     "execution_count": 4,
     "metadata": {},
     "output_type": "execute_result"
    }
   ],
   "source": [
    "graph_builder"
   ]
  },
  {
   "cell_type": "code",
   "execution_count": 5,
   "id": "9a169160",
   "metadata": {},
   "outputs": [
    {
     "data": {
      "text/plain": [
       "True"
      ]
     },
     "execution_count": 5,
     "metadata": {},
     "output_type": "execute_result"
    }
   ],
   "source": [
    "import os\n",
    "from dotenv import load_dotenv\n",
    "load_dotenv()"
   ]
  },
  {
   "cell_type": "code",
   "execution_count": 6,
   "id": "57dead00",
   "metadata": {},
   "outputs": [
    {
     "name": "stdout",
     "output_type": "stream",
     "text": [
      "Godwin most commonly refers to Godwin, Earl of Wessex (died 1053), a powerful Anglo-Saxon nobleman and political figure in 11th-century England. He rose from relative obscurity to become Earl of Wessex under King Cnut around 1018 and became recognized as a \"kingmaker,\" effectively ruling England in all but name during his lifetime [1][2][4].\n",
      "\n",
      "Godwin's influence was rooted in his strategic alliances—including marriage into a prominent Danish family—and his skillful navigation of shifting royal politics. He opposed growing Norman influence at court and was temporarily exiled in 1051 after defying King Edward the Confessor, but he soon returned to power with military support [2][3]. Upon his death, his son Harold Godwinson succeeded him and later became King of England in 1066, marking the height of the Godwin family’s power just before the Norman Conquest [1][4].\n",
      "\n",
      "If your query refers to a different \"Godwin\" (such as a modern figure or a character in literature), please provide more context for a more specific answer.\n"
     ]
    }
   ],
   "source": [
    "from langchain_openai import ChatOpenAI\n",
    "\n",
    "llm = ChatOpenAI(\n",
    "    model_name=\"sonar-pro\",  # Using Perplexity's 7B model\n",
    "    openai_api_key=os.environ[\"PERPLEXITY_API_KEY\"],\n",
    "    base_url=\"https://api.perplexity.ai\"\n",
    ")\n",
    "\n",
    "response = llm.invoke(\"Who is Godwin\")\n",
    "print(response.content)"
   ]
  },
  {
   "cell_type": "code",
   "execution_count": 12,
   "id": "dbd8cbea",
   "metadata": {},
   "outputs": [
    {
     "data": {
      "text/plain": [
       "ChatOpenAI(client=<openai.resources.chat.completions.completions.Completions object at 0x0000013F97B20620>, async_client=<openai.resources.chat.completions.completions.AsyncCompletions object at 0x0000013F9784DF70>, root_client=<openai.OpenAI object at 0x0000013F9763D3D0>, root_async_client=<openai.AsyncOpenAI object at 0x0000013F9797DC40>, model_name='sonar-pro', model_kwargs={}, openai_api_key=SecretStr('**********'), openai_api_base='https://api.perplexity.ai')"
      ]
     },
     "execution_count": 12,
     "metadata": {},
     "output_type": "execute_result"
    }
   ],
   "source": [
    "llm"
   ]
  },
  {
   "cell_type": "code",
   "execution_count": 58,
   "id": "d5764849",
   "metadata": {},
   "outputs": [],
   "source": [
    "# #Node Functionality\n",
    "from langchain_core.messages import AIMessage, HumanMessage\n",
    "\n",
    "def chatbot(state: State):\n",
    "    message = state[\"messages\"]\n",
    "    if isinstance(message, list):\n",
    "        message = message[-1]\n",
    "    \n",
    "    response = llm.invoke(str(message))\n",
    "    return {\"messages\": [HumanMessage(content=str(message)), AIMessage(content=response.content)]}\n"
   ]
  },
  {
   "cell_type": "code",
   "execution_count": 59,
   "id": "16194ac1",
   "metadata": {},
   "outputs": [],
   "source": [
    "graph_builder = StateGraph(State)\n",
    "graph_builder.add_node(\"llmchatbot\",chatbot)\n",
    "\n",
    "graph_builder.add_edge(START,\"llmchatbot\")\n",
    "graph_builder.add_edge(\"llmchatbot\",END)\n",
    "\n",
    "graph = graph_builder.compile()"
   ]
  },
  {
   "cell_type": "code",
   "execution_count": 60,
   "id": "d6da21ab",
   "metadata": {},
   "outputs": [
    {
     "data": {
      "image/png": "[encoded data removed]",
      "text/plain": [
       "<IPython.core.display.Image object>"
      ]
     },
     "metadata": {},
     "output_type": "display_data"
    }
   ],
   "source": [
    "from IPython.display import Image,display\n",
    "\n",
    "\n",
    "try:\n",
    "    display(Image(graph.get_graph().draw_mermaid_png()))\n",
    "\n",
    "except Exception:\n",
    "    pass"
   ]
  },
  {
   "cell_type": "code",
   "execution_count": 61,
   "id": "26cc346a",
   "metadata": {},
   "outputs": [],
   "source": [
    "response = graph.invoke({\n",
    "    \"messages\": [HumanMessage(content=\"how are you\")]\n",
    "})"
   ]
  },
  {
   "cell_type": "code",
   "execution_count": 56,
   "id": "3e6de5ec",
   "metadata": {},
   "outputs": [
    {
     "data": {
      "text/plain": [
       "'“How are you?” is a common greeting in English; standard responses include “Good, thanks. And you?” or “I’m well, thank you” in formal situations, and more creative or honest answers are used with friends or colleagues depending on context [1][3].\\n\\nIn a formal or professional setting, polite replies are preferred, such as:\\n- “Very well, thanks for asking. And you?”  \\n- “I’m doing well, thank you.” [1]\\n\\nWith friends, family, or in casual situations, responses can be more personal or playful:\\n- “I’m okay.”\\n- “Great!”\\n- “Excited—something good is coming up.”\\n- “I’ve been better.”\\n- “Stressed out, but hanging in there.” [3]\\n\\nCreative and humorous responses, often used to lighten the mood among coworkers or friends, include:\\n- “Living the dream—please don’t wake me up.”\\n- “Medium well.”\\n- “Better than I deserve.”\\n- “Mentally at the beach.” [1]\\n\\nChoosing how to answer depends on your relationship with the person and the setting. Polite and brief responses are safest with strangers or in formal contexts, while friends or colleagues might appreciate honesty or humor.'"
      ]
     },
     "execution_count": 56,
     "metadata": {},
     "output_type": "execute_result"
    }
   ],
   "source": [
    "response[\"messages\"][-1].content"
   ]
  },
  {
   "cell_type": "code",
   "execution_count": 62,
   "id": "d3e711b1",
   "metadata": {},
   "outputs": [
    {
     "name": "stdout",
     "output_type": "stream",
     "text": [
      "{'messages': [HumanMessage(content=\"content='How are you' additional_kwargs={} response_metadata={} id='467f34b6-2128-48be-9097-87cb81880d1d'\", additional_kwargs={}, response_metadata={}, id='49c31791-fd52-4429-adf1-72a5bfb93fda'), AIMessage(content='Common replies to \"How are you?\" include \"Good,\" \"Well,\" \"Great,\" \"Fine,\" and \"All right,\" all of which are polite and widely accepted in both casual and professional contexts [5]. In more formal settings, you might answer, \"Very well, thanks for asking. And you?\" [3].\\n\\nIf you want a humorous or creative response, options include:\\n- \"Not bad for a human.\"\\n- \"Living the dream. Please don’t wake me up.\"\\n- \"If I was any better, vitamins would be taking me.\"\\n- \"Surviving on coffee and sarcasm.\" [1][3]\\n\\nThe type of response can be tailored to your mood, setting, and relationship with the person asking. For professional interactions, neutral or positive answers are best, while casual or funny replies can help create a lighthearted atmosphere among friends or close colleagues.', additional_kwargs={}, response_metadata={}, id='efd8c76a-bde1-4578-acea-2a23005a1494')]}\n"
     ]
    }
   ],
   "source": [
    "for event in graph.stream({\"messages\":\"How are you\"}):\n",
    "    for value in event.values():\n",
    "        print(value)\n"
   ]
  }
 ],
 "metadata": {
  "kernelspec": {
   "display_name": "langgraph_p1 (3.12.2)",
   "language": "python",
   "name": "python3"
  },
  "language_info": {
   "codemirror_mode": {
    "name": "ipython",
    "version": 3
   },
   "file_extension": ".py",
   "mimetype": "text/x-python",
   "name": "python",
   "nbconvert_exporter": "python",
   "pygments_lexer": "ipython3",
   "version": "3.12.2"
  }
 },
 "nbformat": 4,
 "nbformat_minor": 5
}
